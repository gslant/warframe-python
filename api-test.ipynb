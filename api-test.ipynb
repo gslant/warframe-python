{
 "cells": [
  {
   "cell_type": "code",
   "execution_count": null,
   "metadata": {},
   "outputs": [],
   "source": [
    "import requests\n",
    "import numpy as np\n",
    "import pandas as pd\n",
    "\n",
    "s = requests.Session()\n",
    "s.headers.update({\"platform\":\"pc\", \"language\":\"en\"})\n",
    "\n",
    "items = s.get(\"https://api.warframe.market/v1/items\").json()"
   ]
  },
  {
   "cell_type": "code",
   "execution_count": null,
   "metadata": {},
   "outputs": [],
   "source": [
    "import statistics\n",
    "import time\n",
    "import csv\n",
    "\n",
    "# write out results to sellPrices.csv\n",
    "f = open('sellPrices.csv', 'w')\n",
    "writer = csv.writer(f)\n",
    "\n",
    "print(\"total items : \" + str(len(items[\"payload\"][\"items\"])))\n",
    "\n",
    "start_time = time.time();\n",
    "\n",
    "for index, item in enumerate(items[\"payload\"][\"items\"]):\n",
    "\n",
    "    print(str(index) + \"/\" + str(len(items[\"payload\"][\"items\"])) + \" \" + url_name)\n",
    "    url_name = item[\"url_name\"]\n",
    "\n",
    "    sellRequest = s.get(\"https://api.warframe.market/v1/items/\" + url_name + \"/orders\").json()\n",
    "    all_online_prices = []\n",
    "\n",
    "    for sItem in sellRequest[\"payload\"][\"orders\"]:\n",
    "        user = sItem[\"user\"]\n",
    "        if(sItem[\"order_type\"] == \"sell\"):\n",
    "            # ToDo : accept orders for players who have been offline, but for less than 12hr\n",
    "            if user[\"status\"] == \"online\" or user[\"status\"] == \"ingame\":\n",
    "                all_online_prices.append(sItem[\"platinum\"])\n",
    "\n",
    "    # only add to table if item is available\n",
    "    if len(all_online_prices) > 0:\n",
    "        mean = statistics.mean(all_online_prices)\n",
    "        median = statistics.median(all_online_prices)\n",
    "\n",
    "        data = [url_name, mean, median]\n",
    "        writer.writerow(data)\n",
    "\n",
    "    # Warframe.market API has a limit of 3 requests per second\n",
    "    time.sleep(0.34)\n",
    "\n",
    "f.close()\n",
    "print(\"Total time elapsed: \" + str(time.time() - start_time) + \"s\") "
   ]
  }
 ],
 "metadata": {
  "kernelspec": {
   "display_name": "Python 3.8.10 64-bit",
   "language": "python",
   "name": "python3"
  },
  "language_info": {
   "codemirror_mode": {
    "name": "ipython",
    "version": 3
   },
   "file_extension": ".py",
   "mimetype": "text/x-python",
   "name": "python",
   "nbconvert_exporter": "python",
   "pygments_lexer": "ipython3",
   "version": "3.8.10"
  },
  "orig_nbformat": 4,
  "vscode": {
   "interpreter": {
    "hash": "916dbcbb3f70747c44a77c7bcd40155683ae19c65e1c03b4aa3499c5328201f1"
   }
  }
 },
 "nbformat": 4,
 "nbformat_minor": 2
}
