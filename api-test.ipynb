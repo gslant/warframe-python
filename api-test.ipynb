{
 "cells": [
  {
   "cell_type": "code",
   "execution_count": null,
   "metadata": {},
   "outputs": [],
   "source": [
    "import requests\n",
    "import pandas as pd\n",
    "response = requests.get(\"https://api.warframe.market/v1/items\")\n",
    "print(response)\n",
    "# print(response.json())\n",
    "df = pd.read_json(response.json())"
   ]
  },
  {
   "cell_type": "code",
   "execution_count": null,
   "metadata": {},
   "outputs": [],
   "source": [
    "import requests\n",
    "import numpy as np\n",
    "import pandas as pd\n",
    "\n",
    "s = requests.Session()\n",
    "s.headers.update({\"platform\":\"pc\", \"language\":\"en\"})\n",
    "\n",
    "items = s.get(\"https://api.warframe.market/v1/items\").json()\n",
    "\n",
    "# print(items)\n",
    "\n",
    "for item in items[\"payload\"][\"items\"]:\n",
    "    # print(item[\"item_name\"])\n",
    "    print(item[\"url_name\"])"
   ]
  },
  {
   "cell_type": "code",
   "execution_count": null,
   "metadata": {},
   "outputs": [],
   "source": [
    "import time\n",
    "\n",
    "all_tags = set([])\n",
    "\n",
    "for item in items[\"payload\"][\"items\"]:\n",
    "    url_name = item[\"url_name\"]\n",
    "    req = s.get(\"https://api.warframe.market/v1/items/\" + url_name).json()\n",
    "\n",
    "    for item_in_set in req[\"payload\"][\"item\"][\"items_in_set\"]:\n",
    "        for tag in item_in_set[\"tags\"]:\n",
    "            all_tags.add(tag)\n",
    "            print(req[\"payload\"][\"item\"]) \n",
    "    \n",
    "    time.sleep(0.5)\n",
    "\n",
    "list(all_tags)[0:50]\n",
    "    "
   ]
  },
  {
   "cell_type": "code",
   "execution_count": null,
   "metadata": {},
   "outputs": [],
   "source": [
    "import time\n",
    "\n",
    "class PricedItem:\n",
    "    def __init__(self, itemName, sellPrice, buyPrice):\n",
    "        self.sellPrice = sellPrice\n",
    "        self.buyPrice = buyPrice\n",
    "        self.itemName = itemName\n",
    "\n",
    "itemOne = PricedItem(\"boar_prime_barrel\", 30, 20)\n",
    "\n",
    "# for item in items[\"payload\"][\"items\"]:\n",
    "#    url_name = item[\"url_name\"]\n",
    "#    req = s.get(\"https://api.warframe.market/v1/items/\" + url_name).json()\n",
    "#   \n",
    "#    time.sleep(0.5)\n",
    "\n",
    "#list(all_tags)[0:50]"
   ]
  },
  {
   "cell_type": "code",
   "execution_count": null,
   "metadata": {},
   "outputs": [],
   "source": [
    "import statistics\n",
    "\n",
    "sellRequest = s.get(\"https://api.warframe.market/v1/items/\" + \"boar_prime_barrel\" + \"/orders\").json()\n",
    "all_online_prices = []\n",
    "\n",
    "for sItem in sellRequest[\"payload\"][\"orders\"]:\n",
    "    user = sItem[\"user\"]\n",
    "    if(sItem[\"order_type\"] == \"sell\"):\n",
    "        if user[\"status\"] == \"online\" or user[\"status\"] == \"ingame\":\n",
    "            print(str(sItem[\"platinum\"]) + \" \" + user[\"ingame_name\"] + \" \" + user[\"status\"])\n",
    "            all_online_prices.append(sItem[\"platinum\"])\n",
    "\n",
    "print(all_online_prices)\n",
    "\n",
    "mean = statistics.mean(all_online_prices)\n",
    "median = statistics.median(all_online_prices)\n",
    "\n",
    "print(\"median = \" + str(median))\n",
    "print(\"average = \" + str(mean))"
   ]
  }
 ],
 "metadata": {
  "kernelspec": {
   "display_name": "Python 3.8.10 64-bit",
   "language": "python",
   "name": "python3"
  },
  "language_info": {
   "codemirror_mode": {
    "name": "ipython",
    "version": 3
   },
   "file_extension": ".py",
   "mimetype": "text/x-python",
   "name": "python",
   "nbconvert_exporter": "python",
   "pygments_lexer": "ipython3",
   "version": "3.8.10"
  },
  "orig_nbformat": 4,
  "vscode": {
   "interpreter": {
    "hash": "916dbcbb3f70747c44a77c7bcd40155683ae19c65e1c03b4aa3499c5328201f1"
   }
  }
 },
 "nbformat": 4,
 "nbformat_minor": 2
}
