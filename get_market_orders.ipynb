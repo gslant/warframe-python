{
 "cells": [
  {
   "cell_type": "code",
   "execution_count": null,
   "metadata": {},
   "outputs": [],
   "source": [
    "import json\n",
    "\n",
    "f = open('parameters.json')\n",
    "\n",
    "data = json.load(f)\n",
    "\n",
    "includes = data['include']\n",
    "excludes = data['exclude']\n",
    "\n",
    "if len(includes) > 0:\n",
    "    print(\"there are includes\")\n",
    "elif len(excludes) > 0:\n",
    "    print(\"there are excludes\")\n",
    "else:\n",
    "    print(\"There are no parameters given\")"
   ]
  },
  {
   "cell_type": "code",
   "execution_count": null,
   "metadata": {},
   "outputs": [],
   "source": [
    "import requests\n",
    "\n",
    "s = requests.Session()\n",
    "s.headers.update({\"platform\":\"pc\", \"language\":\"en\"})\n",
    "\n",
    "all_items = s.get(\"https://api.warframe.market/v1/items\").json()\n",
    "items = []\n",
    "\n",
    "\n",
    "for index, possible_item in enumerate(all_items[\"payload\"][\"items\"]):\n",
    "\n",
    "    if possible_item[\"url_name\"] == \"baro_void_signal_(key)\":\n",
    "        print(\"test\")\n",
    "    if(any(substring in possible_item[\"url_name\"] for substring in excludes)):\n",
    "        print(possible_item[\"url_name\"])\n",
    "        continue\n",
    "    else:\n",
    "        items.append(possible_item[\"url_name\"])\n",
    "            \n",
    "print(len(all_items[\"payload\"][\"items\"]))\n",
    "print(len(items))\n",
    "\n",
    "#for i in items:\n",
    "#    print(i)\n"
   ]
  },
  {
   "cell_type": "code",
   "execution_count": null,
   "metadata": {},
   "outputs": [],
   "source": [
    "import statistics\n",
    "import time\n",
    "import csv\n",
    "\n",
    "# write out results to sellPrices.csv\n",
    "f = open('allOrderPrices.csv', 'w')\n",
    "writer = csv.writer(f)\n",
    "headers = [\"url_name\", \"sell_mean\", \"sell_median\", \"buy_mean\", \"buy_median\"]\n",
    "writer.writerow(headers)\n",
    "\n",
    "print(\"total items : \" + str(len(all_items[\"payload\"][\"items\"])))\n",
    "print(\"reduced itemset : \" + str(len(items)))\n",
    "\n",
    "start_time = time.time();\n",
    "\n",
    "for index, item in enumerate(items):\n",
    "\n",
    "    url_name = item\n",
    "    print(str(index) + \"/\" + str(len(items)) + \" \" + url_name)\n",
    "\n",
    "    sellRequest = s.get(\"https://api.warframe.market/v1/items/\" + url_name + \"/orders\").json()\n",
    "    all_online_sell_prices = []\n",
    "    all_online_buy_prices = []\n",
    "\n",
    "    for sItem in sellRequest[\"payload\"][\"orders\"]:\n",
    "        user = sItem[\"user\"]\n",
    "        # ToDo : accept orders for players who have been offline, but for less than 12hr\n",
    "        if user[\"status\"] == \"online\" or user[\"status\"] == \"ingame\":\n",
    "            if(sItem[\"order_type\"] == \"sell\"):\n",
    "                all_online_sell_prices.append(sItem[\"platinum\"])\n",
    "            else:\n",
    "                all_online_buy_prices.append(sItem[\"platinum\"])\n",
    "\n",
    "    # only add to table if item is available\n",
    "    if len(all_online_sell_prices) > 0:\n",
    "        sell_mean = statistics.mean(all_online_sell_prices)\n",
    "        sell_median = statistics.median(all_online_sell_prices)\n",
    "    if len(all_online_buy_prices) > 0:\n",
    "        buy_mean = statistics.mean(all_online_buy_prices)\n",
    "        buy_median = statistics.median(all_online_buy_prices)\n",
    "\n",
    "    data = [url_name, sell_mean, sell_median, buy_mean, buy_median]\n",
    "    writer.writerow(data)\n",
    "\n",
    "    # Warframe.market API has a limit of 3 requests per second\n",
    "    time.sleep(0.34)\n",
    "\n",
    "f.close()\n",
    "print(\"estimated time for total itemset: \" + str(len(all_items[\"payload\"][\"items\"]) / 3))\n",
    "print(\"estimated time for reduced itemset: \" + str(len(items)/ 3))\n",
    "print(\"Total time elapsed: \" + str(time.time() - start_time) + \"s\") "
   ]
  }
 ],
 "metadata": {
  "kernelspec": {
   "display_name": "Python 3.11.0 64-bit",
   "language": "python",
   "name": "python3"
  },
  "language_info": {
   "codemirror_mode": {
    "name": "ipython",
    "version": 3
   },
   "file_extension": ".py",
   "mimetype": "text/x-python",
   "name": "python",
   "nbconvert_exporter": "python",
   "pygments_lexer": "ipython3",
   "version": "3.11.0"
  },
  "orig_nbformat": 4,
  "vscode": {
   "interpreter": {
    "hash": "e7370f93d1d0cde622a1f8e1c04877d8463912d04d973331ad4851f04de6915a"
   }
  }
 },
 "nbformat": 4,
 "nbformat_minor": 2
}
